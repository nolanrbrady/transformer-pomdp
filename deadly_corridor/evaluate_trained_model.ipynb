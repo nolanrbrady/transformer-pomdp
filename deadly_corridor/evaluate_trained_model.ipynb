{
 "cells": [
  {
   "cell_type": "code",
   "execution_count": 2,
   "metadata": {},
   "outputs": [
    {
     "name": "stdout",
     "output_type": "stream",
     "text": [
      "PyTorch device check: cpu\n"
     ]
    }
   ],
   "source": [
    "import sys\n",
    "sys.path.insert(0, \"./models\")\n",
    "\n",
    "from basic_vit import BasicViT\n",
    "\n",
    "from stable_baselines3 import PPO\n",
    "import gymnasium as gym\n",
    "import gym\n",
    "import time\n",
    "import torch\n",
    "from stable_baselines3 import PPO\n",
    "from stable_baselines3.common.env_util import make_vec_env\n",
    "import gymnasium\n",
    "from vizdoom import gymnasium_wrapper # This import will register all the environments\n",
    "import os\n",
    "\n",
    "from models.temporal_vit import TemporalViT\n",
    "from models.infini_vit import InfiniViT\n",
    "\n",
    "from ppo_basic import ViTFeatureExtractor\n"
   ]
  },
  {
   "cell_type": "code",
   "execution_count": 22,
   "metadata": {},
   "outputs": [
    {
     "name": "stdout",
     "output_type": "stream",
     "text": [
      "Using device: cpu\n",
      "Wrapping the env in a VecTransposeImage.\n",
      "Observation space: Dict('gamevariables': Box(-3.4028235e+38, 3.4028235e+38, (1,), float32), 'screen': Box(0, 255, (3, 240, 320), uint8))\n",
      "Shape from observation space: (3, 240, 320)\n",
      "Extracted dimensions: h=84, w=84, c=3\n",
      "Will create 36 patches (6x6) with patch_size=14\n",
      "BasicViT model initialized on: cpu\n",
      "\n",
      "▶️ Starting episode 1\n",
      "✅ Episode 1 finished with total reward: 285.4735107421875\n",
      "\n",
      "▶️ Starting episode 2\n",
      "✅ Episode 2 finished with total reward: 306.26678466796875\n",
      "\n",
      "▶️ Starting episode 3\n",
      "✅ Episode 3 finished with total reward: 767.9105224609375\n"
     ]
    }
   ],
   "source": [
    "# Setup device\n",
    "device = torch.device(\"cuda\" if torch.cuda.is_available() else \"cpu\")\n",
    "print(f\"Using device: {device}\")\n",
    "\n",
    "# Create a **vectorized** VizDoom environment with 1 env\n",
    "env = make_vec_env(\"VizdoomCorridor-v0\", n_envs=1, env_kwargs={\"render_mode\": \"human\"})\n",
    "\n",
    "# Load the trained PPO model\n",
    "model = PPO.load(\n",
    "    \"ppo_basic_vizdoom\",\n",
    "    env=env,\n",
    "    device=device,\n",
    "    custom_objects={\n",
    "        \"features_extractor_class\": ViTFeatureExtractor,\n",
    "        \"features_extractor_kwargs\": dict(features_dim=512),\n",
    "    }\n",
    ")\n",
    "\n",
    "# Run 3 episodes\n",
    "for episode in range(1, 4):\n",
    "    obs = env.reset()\n",
    "    done = [False]\n",
    "    total_reward = 0\n",
    "\n",
    "    print(f\"\\n▶️ Starting episode {episode}\")\n",
    "\n",
    "    while not done[0]:  # VecEnv returns list-like done flags\n",
    "        action, _ = model.predict(obs, deterministic=True)\n",
    "        obs, reward, done, info = env.step(action)\n",
    "        total_reward += reward[0]\n",
    "        time.sleep(0.03)\n",
    "\n",
    "    print(f\"✅ Episode {episode} finished with total reward: {total_reward}\")\n",
    "\n",
    "env.close()"
   ]
  },
  {
   "cell_type": "code",
   "execution_count": null,
   "metadata": {},
   "outputs": [],
   "source": []
  }
 ],
 "metadata": {
  "kernelspec": {
   "display_name": "base",
   "language": "python",
   "name": "python3"
  },
  "language_info": {
   "codemirror_mode": {
    "name": "ipython",
    "version": 3
   },
   "file_extension": ".py",
   "mimetype": "text/x-python",
   "name": "python",
   "nbconvert_exporter": "python",
   "pygments_lexer": "ipython3",
   "version": "3.12.2"
  }
 },
 "nbformat": 4,
 "nbformat_minor": 2
}
